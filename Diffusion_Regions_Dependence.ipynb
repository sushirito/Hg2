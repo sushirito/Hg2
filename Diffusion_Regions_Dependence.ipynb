{
  "nbformat": 4,
  "nbformat_minor": 0,
  "metadata": {
    "colab": {
      "provenance": [],
      "authorship_tag": "ABX9TyNZveTt5WoCQniJN4KK+pM8",
      "include_colab_link": true
    },
    "kernelspec": {
      "name": "python3",
      "display_name": "Python 3"
    },
    "language_info": {
      "name": "python"
    }
  },
  "cells": [
    {
      "cell_type": "markdown",
      "metadata": {
        "id": "view-in-github",
        "colab_type": "text"
      },
      "source": [
        "<a href=\"https://colab.research.google.com/github/sushirito/Hg2/blob/main/Diffusion_Regions_Dependence.ipynb\" target=\"_parent\"><img src=\"https://colab.research.google.com/assets/colab-badge.svg\" alt=\"Open In Colab\"/></a>"
      ]
    },
    {
      "cell_type": "code",
      "source": [
        "import numpy as np\n",
        "\n",
        "k_B = 1.380649e-23  # Boltzmann constant (J/K)\n",
        "r = (0.102 + 0.168) * 1e-9  # Effective radius (m)\n",
        "\n",
        "# Lucas method parameters for water\n",
        "P_C = 22.064e6  # Critical pressure (Pa)\n",
        "omega = 0.344  # Acentric factor\n",
        "\n",
        "def dynamic_viscosity(T_K):\n",
        "    \"\"\"Compute viscosity at saturated liquid conditions.\"\"\"\n",
        "    return 2.414e-5 * 10**(247.8 / (T_K - 140))\n",
        "\n",
        "def reduced_pressure(P, T_K):\n",
        "    \"\"\"Compute reduced pressure using Antoine equation.\"\"\"\n",
        "    P_VP = 10**(5.053988 - (1647.6 / (T_K + 226))) * 101325\n",
        "    return (P - P_VP) / P_C\n",
        "\n",
        "def lucas_coefficients(T_R):\n",
        "    \"\"\"Compute Lucas method coefficients.\"\"\"\n",
        "    A = 0.9991 - (4.674e-4 / (1.0523 * T_R - 0.3877 - 1.0513))\n",
        "    D = 0.3257 / (1.0039 - T_R**2.573)**0.2096 - 0.2086\n",
        "    C = -0.07921 + 2.1616 * T_R - 13.4040 * T_R**2 + 44.1706 * T_R**3 \\\n",
        "        - 84.8291 * T_R**4 + 96.1209 * T_R**5 - 59.8127 * T_R**6 + 15.6719 * T_R**7\n",
        "    return A, D, C\n",
        "\n",
        "def adjusted_viscosity(mu_SL, delta_P_R, A, D, C):\n",
        "    \"\"\"Adjust viscosity using the Lucas method.\"\"\"\n",
        "    return mu_SL * (1 + D * delta_P_R * A / 2.118) / (1 + C * omega * delta_P_R)\n",
        "\n",
        "def diffusion_coefficient(T_K, r, viscosity):\n",
        "    \"\"\"Compute diffusion coefficient using Einstein-Stokes equation.\"\"\"\n",
        "    return k_B * T_K / (6 * np.pi * viscosity * r)\n",
        "\n",
        "# Data\n",
        "locations = [\"Ross Sea\", \"Lake Superior\", \"Kodakainal\", \"Amazon\", \"Guadalupe\"]\n",
        "temperatures_C = [-27.90, 1.67, 17.30, 27.78, 21.60]\n",
        "pressures_Pa = [98780.0, 101325.0, 101660.0, 101325.0, 102608.0]\n",
        "\n",
        "temperatures_K = [T + 273.15 for T in temperatures_C]\n",
        "\n",
        "# Compute values and display\n",
        "print(\"Location         | Temp (°C) | Pressure (Pa) | Viscosity (Pa·s) | Diffusivity (m²/s)\")\n",
        "print(\"--------------------------------------------------------------------------------\")\n",
        "\n",
        "for loc, T_C, T_K, P in zip(locations, temperatures_C, temperatures_K, pressures_Pa):\n",
        "    T_R = T_K / 647.3  # Reduced temperature\n",
        "    mu_SL = dynamic_viscosity(T_K)\n",
        "    A, D, C = lucas_coefficients(T_R)\n",
        "    delta_P_R = reduced_pressure(P, T_K)\n",
        "    mu_adjusted = adjusted_viscosity(mu_SL, delta_P_R, A, D, C)\n",
        "    D = diffusion_coefficient(T_K, r, mu_adjusted)\n",
        "    print(f\"{loc:<15} | {T_C:<10.2f} | {P:<12.1f} | {mu_adjusted:<15.6e} | {D:<15.6e}\")\n"
      ],
      "metadata": {
        "colab": {
          "base_uri": "https://localhost:8080/"
        },
        "id": "slK5ViKUdF31",
        "outputId": "ccdfe1d8-432b-4e8c-e55f-4090e7f54531"
      },
      "execution_count": 9,
      "outputs": [
        {
          "output_type": "stream",
          "name": "stdout",
          "text": [
            "Location         | Temp (°C) | Pressure (Pa) | Viscosity (Pa·s) | Diffusivity (m²/s)\n",
            "--------------------------------------------------------------------------------\n",
            "Ross Sea        | -27.90     | 98780.0      | 5.426593e-03    | 1.226027e-10   \n",
            "Lake Superior   | 1.67       | 101325.0     | 1.645817e-03    | 4.529865e-10   \n",
            "Kodakainal      | 17.30      | 101660.0     | 1.057282e-03    | 7.452445e-10   \n",
            "Amazon          | 27.78      | 101325.0     | 8.240478e-04    | 9.906756e-10   \n",
            "Guadalupe       | 21.60      | 102608.0     | 9.506893e-04    | 8.410729e-10   \n"
          ]
        }
      ]
    }
  ]
}