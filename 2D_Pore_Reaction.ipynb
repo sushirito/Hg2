{
  "nbformat": 4,
  "nbformat_minor": 0,
  "metadata": {
    "colab": {
      "provenance": [],
      "gpuType": "T4",
      "authorship_tag": "ABX9TyPjULy6H2iQBPqcpmLCPNF2",
      "include_colab_link": true
    },
    "kernelspec": {
      "name": "python3",
      "display_name": "Python 3"
    },
    "language_info": {
      "name": "python"
    },
    "accelerator": "GPU"
  },
  "cells": [
    {
      "cell_type": "markdown",
      "metadata": {
        "id": "view-in-github",
        "colab_type": "text"
      },
      "source": [
        "<a href=\"https://colab.research.google.com/github/sushirito/Hg2/blob/main/2D_Pore_Reaction.ipynb\" target=\"_parent\"><img src=\"https://colab.research.google.com/assets/colab-badge.svg\" alt=\"Open In Colab\"/></a>"
      ]
    },
    {
      "cell_type": "code",
      "source": [
        "!pip install deepxde"
      ],
      "metadata": {
        "colab": {
          "base_uri": "https://localhost:8080/"
        },
        "id": "elNH9jGWqKuH",
        "outputId": "a02084e5-8258-424d-fc18-eebc14d91097"
      },
      "execution_count": 1,
      "outputs": [
        {
          "output_type": "stream",
          "name": "stdout",
          "text": [
            "Collecting deepxde\n",
            "  Downloading DeepXDE-1.13.1-py3-none-any.whl.metadata (12 kB)\n",
            "Requirement already satisfied: matplotlib in /usr/local/lib/python3.11/dist-packages (from deepxde) (3.10.0)\n",
            "Requirement already satisfied: numpy in /usr/local/lib/python3.11/dist-packages (from deepxde) (1.26.4)\n",
            "Requirement already satisfied: scikit-learn in /usr/local/lib/python3.11/dist-packages (from deepxde) (1.6.1)\n",
            "Collecting scikit-optimize>=0.9.0 (from deepxde)\n",
            "  Downloading scikit_optimize-0.10.2-py2.py3-none-any.whl.metadata (9.7 kB)\n",
            "Requirement already satisfied: scipy in /usr/local/lib/python3.11/dist-packages (from deepxde) (1.13.1)\n",
            "Requirement already satisfied: joblib>=0.11 in /usr/local/lib/python3.11/dist-packages (from scikit-optimize>=0.9.0->deepxde) (1.4.2)\n",
            "Collecting pyaml>=16.9 (from scikit-optimize>=0.9.0->deepxde)\n",
            "  Downloading pyaml-25.1.0-py3-none-any.whl.metadata (12 kB)\n",
            "Requirement already satisfied: packaging>=21.3 in /usr/local/lib/python3.11/dist-packages (from scikit-optimize>=0.9.0->deepxde) (24.2)\n",
            "Requirement already satisfied: threadpoolctl>=3.1.0 in /usr/local/lib/python3.11/dist-packages (from scikit-learn->deepxde) (3.5.0)\n",
            "Requirement already satisfied: contourpy>=1.0.1 in /usr/local/lib/python3.11/dist-packages (from matplotlib->deepxde) (1.3.1)\n",
            "Requirement already satisfied: cycler>=0.10 in /usr/local/lib/python3.11/dist-packages (from matplotlib->deepxde) (0.12.1)\n",
            "Requirement already satisfied: fonttools>=4.22.0 in /usr/local/lib/python3.11/dist-packages (from matplotlib->deepxde) (4.55.7)\n",
            "Requirement already satisfied: kiwisolver>=1.3.1 in /usr/local/lib/python3.11/dist-packages (from matplotlib->deepxde) (1.4.8)\n",
            "Requirement already satisfied: pillow>=8 in /usr/local/lib/python3.11/dist-packages (from matplotlib->deepxde) (11.1.0)\n",
            "Requirement already satisfied: pyparsing>=2.3.1 in /usr/local/lib/python3.11/dist-packages (from matplotlib->deepxde) (3.2.1)\n",
            "Requirement already satisfied: python-dateutil>=2.7 in /usr/local/lib/python3.11/dist-packages (from matplotlib->deepxde) (2.8.2)\n",
            "Requirement already satisfied: PyYAML in /usr/local/lib/python3.11/dist-packages (from pyaml>=16.9->scikit-optimize>=0.9.0->deepxde) (6.0.2)\n",
            "Requirement already satisfied: six>=1.5 in /usr/local/lib/python3.11/dist-packages (from python-dateutil>=2.7->matplotlib->deepxde) (1.17.0)\n",
            "Downloading DeepXDE-1.13.1-py3-none-any.whl (190 kB)\n",
            "\u001b[2K   \u001b[90m━━━━━━━━━━━━━━━━━━━━━━━━━━━━━━━━━━━━━━━━\u001b[0m \u001b[32m190.7/190.7 kB\u001b[0m \u001b[31m9.6 MB/s\u001b[0m eta \u001b[36m0:00:00\u001b[0m\n",
            "\u001b[?25hDownloading scikit_optimize-0.10.2-py2.py3-none-any.whl (107 kB)\n",
            "\u001b[2K   \u001b[90m━━━━━━━━━━━━━━━━━━━━━━━━━━━━━━━━━━━━━━━━\u001b[0m \u001b[32m107.8/107.8 kB\u001b[0m \u001b[31m7.5 MB/s\u001b[0m eta \u001b[36m0:00:00\u001b[0m\n",
            "\u001b[?25hDownloading pyaml-25.1.0-py3-none-any.whl (26 kB)\n",
            "Installing collected packages: pyaml, scikit-optimize, deepxde\n",
            "Successfully installed deepxde-1.13.1 pyaml-25.1.0 scikit-optimize-0.10.2\n"
          ]
        }
      ]
    },
    {
      "cell_type": "code",
      "source": [
        "import deepxde as dde\n",
        "import numpy as np\n",
        "import matplotlib.pyplot as plt\n",
        "\n",
        "D = 1.0\n",
        "k = 0.1\n",
        "alpha = 1.0\n",
        "\n",
        "outer = dde.geometry.Rectangle(xmin=[0, 0], xmax=[1, 1])\n",
        "inclusion = dde.geometry.Disk(center=[0.5, 0.5], radius=0.2)\n",
        "fluid_domain = outer - inclusion\n",
        "\n",
        "def robin_func(x, u):\n",
        "    return k * (alpha - u)\n",
        "\n",
        "def boundary_solid(x, on_boundary):\n",
        "    return on_boundary and inclusion.on_boundary(x)\n",
        "\n",
        "robin_bc = dde.icbc.RobinBC(\n",
        "    fluid_domain,\n",
        "    func=robin_func,\n",
        "    on_boundary=boundary_solid\n",
        ")\n",
        "\n",
        "\n",
        "def pde(x, u):\n",
        "    d2u_dx2 = dde.grad.hessian(u, x, i=0, j=0)\n",
        "    d2u_dy2 = dde.grad.hessian(u, x, i=1, j=1)\n",
        "    return D * (d2u_dx2 + d2u_dy2)  # grad^2(u) = 0\n",
        "\n",
        "data = dde.data.PDE(\n",
        "    fluid_domain,\n",
        "    pde,\n",
        "    [robin_bc],\n",
        "    num_domain=1000,\n",
        "    num_boundary=100,\n",
        "    solution=None,\n",
        "    num_test=200,\n",
        ")\n",
        "\n",
        "net = dde.nn.FNN(\n",
        "    [2] + [50] * 4 + [1],\n",
        "    \"tanh\",\n",
        "    \"Glorot normal\",\n",
        ")\n",
        "\n",
        "# 5. Model Compilation\n",
        "model = dde.Model(data, net)\n",
        "model.compile(\"adam\", lr=0.001)\n",
        "\n",
        "\n",
        "losshistory, train_state = model.train(\n",
        "    iterations=10000,\n",
        ")\n",
        "\n",
        "dde.saveplot(losshistory, train_state, issave=True, isplot=True)"
      ],
      "metadata": {
        "id": "zPR7t-BRatGc"
      },
      "execution_count": null,
      "outputs": []
    },
    {
      "cell_type": "code",
      "source": [
        "import deepxde as dde\n",
        "import numpy as np\n",
        "import matplotlib.pyplot as plt\n",
        "\n",
        "D = 1.0\n",
        "k = 0.1\n",
        "alpha = 1.0\n",
        "T = 1.0\n",
        "\n",
        "outer = dde.geometry.Rectangle(xmin=[0, 0], xmax=[1, 1])\n",
        "inclusion = dde.geometry.Disk(center=[0.5, 0.5], radius=0.2)\n",
        "fluid_domain = outer - inclusion\n",
        "\n",
        "time_domain = dde.geometry.TimeDomain(0, T)\n",
        "\n",
        "geomtime = dde.geometry.GeometryXTime(fluid_domain, time_domain)\n",
        "\n",
        "def robin_func(x, u):\n",
        "    return k * (alpha - u)\n",
        "\n",
        "def boundary_solid(x, on_boundary):\n",
        "    return on_boundary and inclusion.on_boundary(x[:2])\n",
        "\n",
        "robin_bc = dde.icbc.RobinBC(\n",
        "    geomtime, func=robin_func, on_boundary=boundary_solid\n",
        ")\n",
        "\n",
        "def initial_func(x):\n",
        "    return 0.0\n",
        "\n",
        "ic = dde.IC(geomtime, initial_func, lambda x, _: np.isclose(x[2], 0))\n",
        "\n",
        "def pde(x, u):\n",
        "    d2u_dx2 = dde.grad.hessian(u, x, i=0, j=0)\n",
        "    d2u_dy2 = dde.grad.hessian(u, x, i=1, j=1)\n",
        "    du_dt = dde.grad.jacobian(u, x, i=0, j=2)\n",
        "    return du_dt - D * (d2u_dx2 + d2u_dy2)\n",
        "\n",
        "data = dde.data.TimePDE(\n",
        "    geomtime,\n",
        "    pde,\n",
        "    [robin_bc, ic],\n",
        "    num_domain=1000,\n",
        "    num_boundary=100,\n",
        "    num_initial=200,\n",
        "    num_test=200,\n",
        ")\n",
        "\n",
        "net = dde.nn.FNN([3] + [50] * 4 + [1], \"tanh\", \"Glorot normal\")\n",
        "\n",
        "model = dde.Model(data, net)\n",
        "model.compile(\"adam\", lr=0.001)\n",
        "\n",
        "losshistory, train_state = model.train(iterations=10000)\n",
        "\n",
        "dde.saveplot(losshistory, train_state, issave=True, isplot=True)\n"
      ],
      "metadata": {
        "colab": {
          "base_uri": "https://localhost:8080/",
          "height": 1000
        },
        "id": "w3cMIPHH_duA",
        "outputId": "73d57c32-fc32-43ce-d0d9-992046167f32"
      },
      "execution_count": 64,
      "outputs": [
        {
          "output_type": "stream",
          "name": "stdout",
          "text": [
            "Warning: CSGDifference.uniform_points not implemented. Use random_points instead.\n",
            "Warning: 200 points required, but 210 points sampled.\n",
            "Compiling model...\n",
            "Building feed-forward neural network...\n",
            "'build' took 0.067710 s\n",
            "\n",
            "'compile' took 0.993845 s\n",
            "\n",
            "Training model...\n",
            "\n",
            "Step      Train loss                        Test loss                         Test metric\n",
            "0         [5.22e-02, 2.59e-02, 2.32e-02]    [5.37e-02, 2.59e-02, 2.32e-02]    []  \n",
            "1000      [4.10e-04, 2.72e-03, 3.49e-04]    [2.52e-04, 2.72e-03, 3.49e-04]    []  \n",
            "2000      [4.71e-04, 1.03e-03, 3.61e-04]    [4.54e-04, 1.03e-03, 3.61e-04]    []  \n",
            "3000      [2.13e-04, 3.97e-04, 2.81e-04]    [1.44e-04, 3.97e-04, 2.81e-04]    []  \n",
            "4000      [1.10e-04, 1.83e-04, 2.37e-04]    [6.78e-05, 1.83e-04, 2.37e-04]    []  \n",
            "5000      [6.57e-05, 1.40e-04, 2.39e-04]    [3.44e-05, 1.40e-04, 2.39e-04]    []  \n",
            "6000      [6.54e-05, 1.36e-04, 3.00e-04]    [4.96e-05, 1.36e-04, 3.00e-04]    []  \n",
            "7000      [1.29e-04, 1.57e-04, 2.20e-04]    [1.34e-04, 1.57e-04, 2.20e-04]    []  \n",
            "8000      [2.39e-05, 1.18e-04, 2.35e-04]    [1.66e-05, 1.18e-04, 2.35e-04]    []  \n",
            "9000      [1.83e-05, 1.18e-04, 2.33e-04]    [1.47e-05, 1.18e-04, 2.33e-04]    []  \n",
            "10000     [1.47e-05, 1.18e-04, 2.29e-04]    [1.30e-05, 1.18e-04, 2.29e-04]    []  \n",
            "\n",
            "Best model at step 10000:\n",
            "  train loss: 3.62e-04\n",
            "  test loss: 3.60e-04\n",
            "  test metric: []\n",
            "\n",
            "'train' took 21.361909 s\n",
            "\n",
            "Saving loss history to /content/loss.dat ...\n",
            "Saving training data to /content/train.dat ...\n",
            "Saving test data to /content/test.dat ...\n"
          ]
        },
        {
          "output_type": "display_data",
          "data": {
            "text/plain": [
              "<Figure size 640x480 with 1 Axes>"
            ],
            "image/png": "[encoded data removed]"
          },
          "metadata": {}
        }
      ]
    }
  ]
}